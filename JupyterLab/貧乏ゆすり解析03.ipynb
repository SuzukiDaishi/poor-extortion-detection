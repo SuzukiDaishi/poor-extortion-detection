{
 "cells": [
  {
   "cell_type": "markdown",
   "metadata": {},
   "source": [
    "# HMMやらを使ってやってみる\n",
    "\n",
    "## 結論\n",
    "\n",
    "acc: 84%<br>\n",
    "おや？精度的にはよくない...\n",
    "\n",
    "フィルタかけて<br>\n",
    "acc: 91%<br>\n",
    "But, ラベルがわがよくなかった説が濃厚\n"
   ]
  },
  {
   "cell_type": "code",
   "execution_count": 1,
   "metadata": {},
   "outputs": [
    {
     "name": "stdout",
     "output_type": "stream",
     "text": [
      "\u001b[33mWARNING: The directory '/home/jovyan/.cache/pip' or its parent directory is not owned or is not writable by the current user. The cache has been disabled. Check the permissions and owner of that directory. If executing pip with sudo, you may want sudo's -H flag.\u001b[0m\n",
      "Collecting git+https://github.com/hmmlearn/hmmlearn\n",
      "  Cloning https://github.com/hmmlearn/hmmlearn to /tmp/pip-req-build-y3beb995\n",
      "  Running command git clone -q https://github.com/hmmlearn/hmmlearn /tmp/pip-req-build-y3beb995\n",
      "Requirement already satisfied (use --upgrade to upgrade): hmmlearn==0.2.3.post4+g70f6194 from git+https://github.com/hmmlearn/hmmlearn in /home/jovyan/.local/lib/python3.7/site-packages\n",
      "Requirement already satisfied: numpy>=1.10 in /opt/conda/lib/python3.7/site-packages (from hmmlearn==0.2.3.post4+g70f6194) (1.18.1)\n",
      "Requirement already satisfied: scikit-learn>=0.16 in /opt/conda/lib/python3.7/site-packages (from hmmlearn==0.2.3.post4+g70f6194) (0.22.2.post1)\n",
      "Requirement already satisfied: scipy>=0.15 in /opt/conda/lib/python3.7/site-packages (from hmmlearn==0.2.3.post4+g70f6194) (1.4.1)\n",
      "Requirement already satisfied: joblib>=0.11 in /opt/conda/lib/python3.7/site-packages (from scikit-learn>=0.16->hmmlearn==0.2.3.post4+g70f6194) (0.14.1)\n",
      "Building wheels for collected packages: hmmlearn\n",
      "  Building wheel for hmmlearn (setup.py) ... \u001b[?25ldone\n",
      "\u001b[?25h  Created wheel for hmmlearn: filename=hmmlearn-0.2.3.post4+g70f6194-cp37-cp37m-linux_x86_64.whl size=338698 sha256=052735ef8a67019290322e215bc82cb179fe9b3602e516472747cafcbeb41645\n",
      "  Stored in directory: /tmp/pip-ephem-wheel-cache-igvh121b/wheels/7f/cc/98/d190f4447289e337cb2ea7b7eb1bf85a8c8707f6db73639484\n",
      "Successfully built hmmlearn\n"
     ]
    }
   ],
   "source": [
    "!pip install --user git+https://github.com/hmmlearn/hmmlearn"
   ]
  },
  {
   "cell_type": "code",
   "execution_count": 1,
   "metadata": {},
   "outputs": [],
   "source": [
    "import numpy as np\n",
    "import matplotlib.pyplot as plt\n",
    "from hmmlearn import hmm\n",
    "import pandas as pd\n",
    "from scipy.stats import norm\n",
    "csv = pd.read_csv('西山貧乏ゆすりデータ.csv')\n",
    "x, y, z, out = csv[['X', 'Y', 'Z', 'Out']].values.T"
   ]
  },
  {
   "cell_type": "code",
   "execution_count": 2,
   "metadata": {},
   "outputs": [],
   "source": [
    "def slide(data, f, width=5) :\n",
    "    dist = []\n",
    "    pad_data = np.pad(data, (0, width-1), 'mean')\n",
    "    for i, _ in enumerate(data):\n",
    "        dist.append(f(pad_data[i:i+width]))\n",
    "    dist = np.array(dist)\n",
    "    return dist\n",
    "def binarization(data, threshold):\n",
    "    dist = data.copy()\n",
    "    dist[data < threshold]  = 0.\n",
    "    dist[data >= threshold] = 1.\n",
    "    return dist\n",
    "def get_leg_vibration(x, y):\n",
    "    \"\"\"\n",
    "    貧乏ゆすりを検出する(精度: 91%程度)\n",
    "    \n",
    "    param: \n",
    "        x: ndarray型で加速度センサXの取得\n",
    "        y: ndarray型で加速度センサYの取得\n",
    "    return: \n",
    "        ndarray型で1なら貧乏ゆすり、0ならそれ以外\n",
    "    \"\"\"\n",
    "    mean_xy = np.mean([x, y], axis=0)\n",
    "    slide_var_xy = slide(mean_xy,lambda x:x.var(),width=33)\n",
    "    return binarization(slide_var_xy, 0.024)"
   ]
  },
  {
   "cell_type": "code",
   "execution_count": 3,
   "metadata": {},
   "outputs": [
    {
     "data": {
      "text/plain": [
       "[<matplotlib.lines.Line2D at 0x7f53da565410>]"
      ]
     },
     "execution_count": 3,
     "metadata": {},
     "output_type": "execute_result"
    },
    {
     "data": {
      "image/png": "[encoded data removed]",
      "text/plain": [
       "<Figure size 432x288 with 1 Axes>"
      ]
     },
     "metadata": {
      "needs_background": "light"
     },
     "output_type": "display_data"
    }
   ],
   "source": [
    "mean_xy = np.mean([x, y], axis=0)\n",
    "model = hmm.GaussianHMM(n_components=2)\n",
    "model.fit( mean_xy.reshape(-1, 1) )\n",
    "L,Z = model.decode( mean_xy.reshape(-1, 1) )\n",
    "plt.plot( Z )\n",
    "plt.plot( out )"
   ]
  },
  {
   "cell_type": "code",
   "execution_count": 4,
   "metadata": {},
   "outputs": [
    {
     "data": {
      "text/plain": [
       "[<matplotlib.lines.Line2D at 0x7f53da565a90>]"
      ]
     },
     "execution_count": 4,
     "metadata": {},
     "output_type": "execute_result"
    },
    {
     "data": {
      "image/png": "[encoded data removed]",
      "text/plain": [
       "<Figure size 432x288 with 1 Axes>"
      ]
     },
     "metadata": {
      "needs_background": "light"
     },
     "output_type": "display_data"
    }
   ],
   "source": [
    "mean_xy = np.mean([x, y], axis=0)\n",
    "slide_var_xy = slide(mean_xy,lambda x:x.var(),width=33)\n",
    "\n",
    "norm_x = np.arange(0,0.05,0.0001)\n",
    "norm_y = norm.pdf(norm_x, slide_var_xy[out == 0].mean(), slide_var_xy[out == 0].var())\n",
    "plt.plot(norm_x, norm_y)\n",
    "\n",
    "norm_x = np.arange(0,0.05,0.0001)\n",
    "norm_y = norm.pdf(norm_x, slide_var_xy[out == 1].mean(), slide_var_xy[out == 1].var())\n",
    "plt.plot(norm_x, norm_y)"
   ]
  },
  {
   "cell_type": "code",
   "execution_count": 5,
   "metadata": {},
   "outputs": [
    {
     "data": {
      "text/plain": [
       "[<matplotlib.lines.Line2D at 0x7f53d67d4f10>]"
      ]
     },
     "execution_count": 5,
     "metadata": {},
     "output_type": "execute_result"
    },
    {
     "data": {
      "image/png": "[encoded data removed]",
      "text/plain": [
       "<Figure size 432x288 with 1 Axes>"
      ]
     },
     "metadata": {
      "needs_background": "light"
     },
     "output_type": "display_data"
    }
   ],
   "source": [
    "model = hmm.GaussianHMM(n_components=2, covariance_type='spherical')\n",
    "model.startprob_ = np.array([0., 1.])\n",
    "model.means_ = np.array([\n",
    "    slide_var_xy[out == 0].mean(),\n",
    "    slide_var_xy[out == 1].mean(),\n",
    "])\n",
    "# このパラメータの入れ方自信ない...\n",
    "model.covars_ = np.array([\n",
    "    slide_var_xy[out == 0].var(),\n",
    "    slide_var_xy[out == 1].var()\n",
    "])\n",
    "model.fit( slide_var_xy.reshape(-1, 1) )\n",
    "L,Z = model.decode( slide_var_xy.reshape(-1, 1) )\n",
    "plt.plot( Z )\n",
    "plt.plot( out )"
   ]
  },
  {
   "cell_type": "code",
   "execution_count": 6,
   "metadata": {},
   "outputs": [
    {
     "name": "stdout",
     "output_type": "stream",
     "text": [
      "acc: 0.8404020100502513\n"
     ]
    }
   ],
   "source": [
    "print('acc:', (model.predict(slide_var_xy.reshape(-1, 1))==out).sum() / slide_var_xy.shape[0] )"
   ]
  },
  {
   "cell_type": "code",
   "execution_count": 7,
   "metadata": {},
   "outputs": [
    {
     "data": {
      "text/plain": [
       "[<matplotlib.lines.Line2D at 0x7f53d66bb990>]"
      ]
     },
     "execution_count": 7,
     "metadata": {},
     "output_type": "execute_result"
    },
    {
     "data": {
      "image/png": "[encoded data removed]",
      "text/plain": [
       "<Figure size 432x288 with 1 Axes>"
      ]
     },
     "metadata": {
      "needs_background": "light"
     },
     "output_type": "display_data"
    }
   ],
   "source": [
    "dist = model.predict(slide_var_xy.reshape(-1, 1))\n",
    "def noiseRemover(data, n):\n",
    "    w = data.copy()\n",
    "    for i in range(n):\n",
    "        w = slide(w, lambda x: 0 if x[0]==1 and x[1]==0 or x[0]==0 and x[1]==1 else x[0] , width=2)\n",
    "    for i in range(n):\n",
    "        w = slide(w, lambda x: 1 if x[0]==1 and x[1]==0 or x[0]==0 and x[1]==1 else x[0] , width=2)\n",
    "    return w\n",
    "n = []\n",
    "for i in range(125):\n",
    "    n.append( (noiseRemover(dist, i)==out).sum() ) \n",
    "plt.plot(n)"
   ]
  },
  {
   "cell_type": "code",
   "execution_count": 8,
   "metadata": {},
   "outputs": [
    {
     "name": "stdout",
     "output_type": "stream",
     "text": [
      "max noize filter n 1番目: 115 , acc: 0.9185929648241206\n"
     ]
    }
   ],
   "source": [
    "n_max = np.argmax(n)\n",
    "print('max noize filter n 1番目:', n_max, ', acc:', np.max(n) / out.shape[0] )"
   ]
  },
  {
   "cell_type": "code",
   "execution_count": 9,
   "metadata": {},
   "outputs": [
    {
     "data": {
      "image/png": "[encoded data removed]",
      "text/plain": [
       "<Figure size 432x288 with 1 Axes>"
      ]
     },
     "metadata": {
      "needs_background": "light"
     },
     "output_type": "display_data"
    }
   ],
   "source": [
    "plt.plot( out )\n",
    "plt.plot( noiseRemover(dist, n_max) )\n",
    "plt.show()"
   ]
  },
  {
   "cell_type": "code",
   "execution_count": 10,
   "metadata": {},
   "outputs": [
    {
     "data": {
      "text/plain": [
       "[<matplotlib.lines.Line2D at 0x7f53d6611990>]"
      ]
     },
     "execution_count": 10,
     "metadata": {},
     "output_type": "execute_result"
    },
    {
     "data": {
      "image/png": "[encoded data removed]",
      "text/plain": [
       "<Figure size 432x288 with 1 Axes>"
      ]
     },
     "metadata": {
      "needs_background": "light"
     },
     "output_type": "display_data"
    }
   ],
   "source": [
    "plt.plot( slide_var_xy )\n",
    "plt.plot( noiseRemover(dist, n_max) )"
   ]
  }
 ],
 "metadata": {
  "kernelspec": {
   "display_name": "Python 3",
   "language": "python",
   "name": "python3"
  },
  "language_info": {
   "codemirror_mode": {
    "name": "ipython",
    "version": 3
   },
   "file_extension": ".py",
   "mimetype": "text/x-python",
   "name": "python",
   "nbconvert_exporter": "python",
   "pygments_lexer": "ipython3",
   "version": "3.7.6"
  }
 },
 "nbformat": 4,
 "nbformat_minor": 4
}
